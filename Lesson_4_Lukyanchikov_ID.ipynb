{
 "cells": [
  {
   "cell_type": "markdown",
   "metadata": {},
   "source": [
    "# Урок 4. Практическое задание\n",
    "## Непрерывные случайные величины. Функция распределения и плотность распределения вероятностей. Равномерное и нормальное распределение. Центральная предельная теорема"
   ]
  },
  {
   "cell_type": "markdown",
   "metadata": {},
   "source": [
    "## Задание 1\n",
    "### Случайная непрерывная величина A имеет равномерное распределение на промежутке (200, 800].  Найдите ее среднее значение и дисперсию."
   ]
  },
  {
   "cell_type": "markdown",
   "metadata": {},
   "source": [
    "Для равномерно распределенной непрерывной случайной величины\n",
    "\n",
    "математическое ожидание  𝑀(𝑋)   можно вычислить по формуле:\n",
    "$$M(X) = \\frac{a + b}{2}$$\n",
    "\n",
    "дисперсию 𝐷(𝑋) можно вычислить по формуле:\n",
    "$$D(X) = \\frac{(b - a)^2}{12}$$"
   ]
  },
  {
   "cell_type": "code",
   "execution_count": 1,
   "metadata": {},
   "outputs": [
    {
     "name": "stdout",
     "output_type": "stream",
     "text": [
      "Математическое ожидание 𝑀(𝑋): 500.0\n",
      "Дисперсия 𝐷(𝑋) : 30000.0\n"
     ]
    }
   ],
   "source": [
    "a = 200\n",
    "b = 800\n",
    "m = (a + b) / 2 \n",
    "d = (b - a) ** 2 /12\n",
    "print(f'Математическое ожидание 𝑀(𝑋): {m}')\n",
    "print(f'Дисперсия 𝐷(𝑋) : {d}')"
   ]
  },
  {
   "cell_type": "markdown",
   "metadata": {},
   "source": [
    "## Задание 2\n",
    "### О случайной непрерывной равномерно распределенной величине B известно, что ее дисперсия равна 0.2. Можно ли найти правую границу величины B и ее среднее значение зная, что левая граница равна 0.5?  Если да, найдите ее."
   ]
  },
  {
   "cell_type": "markdown",
   "metadata": {},
   "source": [
    "Дисперсия 𝐷(𝑋) равна:\n",
    "$$D(X) = \\frac{(b - a)^2}{12}$$\n",
    "Отсюда получаем\n",
    "$$b = \\sqrt{12 * D(X)} + a $$"
   ]
  },
  {
   "cell_type": "code",
   "execution_count": 3,
   "metadata": {},
   "outputs": [
    {
     "name": "stdout",
     "output_type": "stream",
     "text": [
      "Правая граница величины B: 2.049\n",
      "Среднее значение: 1.275\n"
     ]
    }
   ],
   "source": [
    "a = 0.5\n",
    "d = 0.2\n",
    "b = (12 * d) ** 0.5 + a\n",
    "m = (a + b) / 2 \n",
    "print(f'Правая граница величины B: {b:.4}')\n",
    "print(f'Среднее значение: {m:.4}')"
   ]
  },
  {
   "cell_type": "markdown",
   "metadata": {},
   "source": [
    "## Задание 3\n",
    "### Непрерывная случайная величина X распределена нормально и задана плотностью распределения\n",
    "### f(x) = (1 / (4 * sqrt(2*pi))) * (exp(-(x+2)***2 / 32)).\n",
    "### Найдите:\n",
    "    а) M(X)\n",
    "    б) D(X)\n",
    "    в) std(X) (среднее квадратичное отклонение)"
   ]
  },
  {
   "cell_type": "markdown",
   "metadata": {},
   "source": [
    "#### а) M(X) = - 2\n",
    "#### б) D(X) = 16\n",
    "#### в) std(X) = 4"
   ]
  },
  {
   "cell_type": "markdown",
   "metadata": {},
   "source": [
    "## Задание 4\n",
    "### Рост взрослого населения города X имеет нормальное распределение. Причем, средний рост равен 174 см, а среднее квадратичное отклонение равно 8 см. Какова вероятность того, что случайным образом выбранный взрослый человек имеет рост:\n",
    "\n",
    "    а) больше 182 см\n",
    "    б) больше 190 см\n",
    "    в) от 166 см до 190 см\n",
    "    г) от 166 см до 182 см\n",
    "    д) от 158 см до 190 см\n",
    "    е) не выше 150 см или не ниже 190 см\n",
    "    ё) не выше 150 см или не ниже 198 см\n",
    "    ж) ниже 166 см."
   ]
  },
  {
   "cell_type": "code",
   "execution_count": 2,
   "metadata": {},
   "outputs": [],
   "source": [
    "m = 174 # M(X)\n",
    "d = 64  # D(X)\n",
    "s = 8   # std(X) "
   ]
  },
  {
   "cell_type": "code",
   "execution_count": 5,
   "metadata": {},
   "outputs": [],
   "source": [
    "import scipy.stats as st"
   ]
  },
  {
   "cell_type": "markdown",
   "metadata": {},
   "source": [
    "### а) больше 182 см\n",
    "    182 - 174 = 8 = 1s\n",
    "    p = 1 - z(1) "
   ]
  },
  {
   "cell_type": "code",
   "execution_count": 9,
   "metadata": {},
   "outputs": [
    {
     "name": "stdout",
     "output_type": "stream",
     "text": [
      "Вероятность того, что человек имеет рост больше 182 см: 0.1587\n"
     ]
    }
   ],
   "source": [
    "h = 182 \n",
    "p = 1 - st.norm.cdf((h - m) / s)\n",
    "print(f'Вероятность того, что человек имеет рост больше 182 см: {p:.4}')"
   ]
  },
  {
   "cell_type": "markdown",
   "metadata": {},
   "source": [
    "### б) больше 190 см\n",
    "    190 - 174 = 16 = 2s\n",
    "    p = 1 - z(2) "
   ]
  },
  {
   "cell_type": "code",
   "execution_count": 12,
   "metadata": {},
   "outputs": [
    {
     "name": "stdout",
     "output_type": "stream",
     "text": [
      "Вероятность того, что человек имеет рост больше 190 см: 0.02275\n"
     ]
    }
   ],
   "source": [
    "h = 190 \n",
    "p = 1 - st.norm.cdf((h - m) / s)\n",
    "print(f'Вероятность того, что человек имеет рост больше 190 см: {p:.4}')"
   ]
  },
  {
   "cell_type": "markdown",
   "metadata": {},
   "source": [
    "### в) от 166 см до 190 см\n",
    "    190 - 174 = 16 = 2s\n",
    "    166 - 174 = -8 = -1s\n",
    "    p = z(2) - z(-1) "
   ]
  },
  {
   "cell_type": "code",
   "execution_count": 19,
   "metadata": {},
   "outputs": [
    {
     "name": "stdout",
     "output_type": "stream",
     "text": [
      "Вероятность того, что человек имеет рост от 166 см до 190 см: 0.8186\n"
     ]
    }
   ],
   "source": [
    "h1 = 166 \n",
    "h2 = 190 \n",
    "p = st.norm.cdf((h2 - m) / s) - st.norm.cdf((h1 - m) / s)\n",
    "print(f'Вероятность того, что человек имеет рост от 166 см до 190 см: {p:.4}')"
   ]
  },
  {
   "cell_type": "markdown",
   "metadata": {},
   "source": [
    "### г) от 166 см до 182 см\n",
    "    182 - 174 = 8 = 1s\n",
    "    166 - 174 = -8 = -1s\n",
    "    p = z(1) - z(-1) "
   ]
  },
  {
   "cell_type": "code",
   "execution_count": 20,
   "metadata": {},
   "outputs": [
    {
     "name": "stdout",
     "output_type": "stream",
     "text": [
      "Вероятность того, что человек имеет рост от 166 см до 182 см: 0.6827\n"
     ]
    }
   ],
   "source": [
    "h1 = 166 \n",
    "h2 = 182 \n",
    "p = st.norm.cdf((h2 - m) / s) - st.norm.cdf((h1 - m) / s)\n",
    "print(f'Вероятность того, что человек имеет рост от 166 см до 182 см: {p:.4}')"
   ]
  },
  {
   "cell_type": "markdown",
   "metadata": {},
   "source": [
    "### д) от 158 см до 190 см\n",
    "    190 - 174 = 16 = 2s\n",
    "    158 - 174 = -16 = -2s\n",
    "    p = z(2) - z(-2) "
   ]
  },
  {
   "cell_type": "code",
   "execution_count": 21,
   "metadata": {},
   "outputs": [
    {
     "name": "stdout",
     "output_type": "stream",
     "text": [
      "Вероятность того, что человек имеет рост от 190 см до 158 см: 0.9545\n"
     ]
    }
   ],
   "source": [
    "h1 = 158 \n",
    "h2 = 190 \n",
    "p = st.norm.cdf((h2 - m) / s) - st.norm.cdf((h1 - m) / s)\n",
    "print(f'Вероятность того, что человек имеет рост от 158 см до 190 см: {p:.4}')"
   ]
  },
  {
   "cell_type": "markdown",
   "metadata": {},
   "source": [
    "### е) не выше 150 см или не ниже 190 см\n",
    "    190 - 174 = 16 = 2s\n",
    "    150 - 174 = -24 = -3s\n",
    "    p = 1 - (z(2) - z(-3)) "
   ]
  },
  {
   "cell_type": "code",
   "execution_count": 22,
   "metadata": {},
   "outputs": [
    {
     "name": "stdout",
     "output_type": "stream",
     "text": [
      "Вероятность того, что человек имеет рост не выше 150 см или не ниже 190 см: 0.0241\n"
     ]
    }
   ],
   "source": [
    "h1 = 150 \n",
    "h2 = 190 \n",
    "p = 1 - st.norm.cdf((h2 - m) / s) + st.norm.cdf((h1 - m) / s)\n",
    "print(f'Вероятность того, что человек имеет рост не выше 150 см или не ниже 190 см: {p:.4}')"
   ]
  },
  {
   "cell_type": "markdown",
   "metadata": {},
   "source": [
    "### ё) не выше 150 см или не ниже 198 см\n",
    "    198 - 174 = 24 = 3s\n",
    "    150 - 174 = -24 = -3s\n",
    "    p = 1 - (z(3) - z(-3)) "
   ]
  },
  {
   "cell_type": "code",
   "execution_count": 23,
   "metadata": {},
   "outputs": [
    {
     "name": "stdout",
     "output_type": "stream",
     "text": [
      "Вероятность того, что человек имеет рост не выше 150 см или не ниже 198 см: 0.0027\n"
     ]
    }
   ],
   "source": [
    "h1 = 150 \n",
    "h2 = 198 \n",
    "p = 1 - st.norm.cdf((h2 - m) / s) + st.norm.cdf((h1 - m) / s)\n",
    "print(f'Вероятность того, что человек имеет рост не выше 150 см или не ниже 198 см: {p:.4}')"
   ]
  },
  {
   "cell_type": "markdown",
   "metadata": {},
   "source": [
    "### ж) ниже 166 см.\n",
    "    166 - 174 = -8 = -1s\n",
    "    p = z(-1) "
   ]
  },
  {
   "cell_type": "code",
   "execution_count": 25,
   "metadata": {},
   "outputs": [
    {
     "name": "stdout",
     "output_type": "stream",
     "text": [
      "Вероятность того, что человек имеет рост ниже 166 см: 0.1587\n"
     ]
    }
   ],
   "source": [
    "h = 166 \n",
    "p = st.norm.cdf((h - m) / s)\n",
    "print(f'Вероятность того, что человек имеет рост ниже 166 см: {p:.4}')"
   ]
  },
  {
   "cell_type": "markdown",
   "metadata": {},
   "source": [
    "## Задание 5\n",
    "### На сколько сигм (средних квадратичных отклонений) отклоняется рост человека, равный 190 см, от математического ожидания роста в популяции, в которой M(X) = 178 см и D(X) = 25 кв.см?"
   ]
  },
  {
   "cell_type": "code",
   "execution_count": 27,
   "metadata": {},
   "outputs": [
    {
     "name": "stdout",
     "output_type": "stream",
     "text": [
      "Отклонение роста человека составляет 2.4 сигмы\n"
     ]
    }
   ],
   "source": [
    "m = 178 # M(X)\n",
    "d = 25  # D(X)\n",
    "h = 190 # X\n",
    "s = (h - m) / d ** 0.5\n",
    "print(f'Отклонение роста человека составляет {s} сигмы')"
   ]
  },
  {
   "cell_type": "code",
   "execution_count": null,
   "metadata": {},
   "outputs": [],
   "source": []
  }
 ],
 "metadata": {
  "kernelspec": {
   "display_name": "Python 3",
   "language": "python",
   "name": "python3"
  },
  "language_info": {
   "codemirror_mode": {
    "name": "ipython",
    "version": 3
   },
   "file_extension": ".py",
   "mimetype": "text/x-python",
   "name": "python",
   "nbconvert_exporter": "python",
   "pygments_lexer": "ipython3",
   "version": "3.7.3"
  }
 },
 "nbformat": 4,
 "nbformat_minor": 2
}
