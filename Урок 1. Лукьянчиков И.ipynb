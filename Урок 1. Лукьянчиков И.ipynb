{
 "cells": [
  {
   "cell_type": "markdown",
   "metadata": {},
   "source": [
    "# Урок 1.\n",
    "## Случайные события. Условная вероятность. Формула Байеса. Независимые испытания"
   ]
  },
  {
   "cell_type": "code",
   "execution_count": 1,
   "metadata": {},
   "outputs": [],
   "source": [
    "from math import factorial\n",
    "\n",
    "# функция для вычисления количества сочетаний:\n",
    "def combinations(n, k):\n",
    "    return int(factorial(n) / (factorial(k) * factorial(n - k)))"
   ]
  },
  {
   "cell_type": "code",
   "execution_count": 6,
   "metadata": {},
   "outputs": [],
   "source": [
    "# функция для вычисления количества размещений:\n",
    "def arrangements(n, k):\n",
    "    return int(factorial(n) / factorial(n - k))"
   ]
  },
  {
   "cell_type": "code",
   "execution_count": 9,
   "metadata": {},
   "outputs": [],
   "source": [
    "# функция для вычисления количества перестановок:\n",
    "def permutations(n):\n",
    "    return int(factorial(n))"
   ]
  },
  {
   "cell_type": "markdown",
   "metadata": {},
   "source": [
    "### Задание 1\n",
    "#### Из колоды в 52 карты извлекаются случайным образом 4 карты. "
   ]
  },
  {
   "cell_type": "markdown",
   "metadata": {},
   "source": [
    "#### a) Найти вероятность того, что все карты – крести. "
   ]
  },
  {
   "cell_type": "markdown",
   "metadata": {},
   "source": [
    "    Т.к. в одной масти 13 карт (52 / 4 = 13) то пусть \n",
    "    m - это количество сочетаний 4 карт из 13.\n",
    "    Всего мы имеем \n",
    "    n - количество сочетаний 4 карт из 52.\n",
    "    Т.о. p = m / n"
   ]
  },
  {
   "cell_type": "code",
   "execution_count": 17,
   "metadata": {},
   "outputs": [
    {
     "name": "stdout",
     "output_type": "stream",
     "text": [
      "Вероятность того, что все карты – крести: 0.002641\n"
     ]
    }
   ],
   "source": [
    "m = combinations(13, 4)\n",
    "n = combinations(52, 4)\n",
    "p = m / n\n",
    "print(f'Вероятность того, что все карты – крести: {p:.4}')"
   ]
  },
  {
   "cell_type": "markdown",
   "metadata": {},
   "source": [
    "#### б) Найти вероятность, что среди 4-х карт окажется хотя бы один туз."
   ]
  },
  {
   "cell_type": "markdown",
   "metadata": {},
   "source": [
    "    Всего мы имеем \n",
    "    n - количество сочетаний 4 карт из 52.\n",
    "    Если выкинуть все тузы мы получим \n",
    "    m - сочетание 4 карт из 48.\n",
    "    Разность n - m это количество сочетаний с тузами\n",
    "    Т.о. p = (n - m) / n"
   ]
  },
  {
   "cell_type": "code",
   "execution_count": 18,
   "metadata": {},
   "outputs": [
    {
     "name": "stdout",
     "output_type": "stream",
     "text": [
      "Вероятность, что среди 4-х карт окажется хотя бы один туз: 0.2813\n"
     ]
    }
   ],
   "source": [
    "n = combinations(52, 4)\n",
    "m = combinations(48, 4)\n",
    "p = (n - m) / n\n",
    "print(f'Вероятность, что среди 4-х карт окажется хотя бы один туз: {p:.4}')"
   ]
  },
  {
   "cell_type": "markdown",
   "metadata": {},
   "source": [
    "### Задание 2\n",
    "#### На входной двери подъезда установлен кодовый замок, содержащий десять кнопок с цифрами от 0 до 9. Код содержит три цифры, которые нужно нажать одновременно. Какова вероятность того, что человек, не знающий код, откроет дверь с первой попытки?"
   ]
  },
  {
   "cell_type": "markdown",
   "metadata": {},
   "source": [
    "    Пусть m - количество сочетаний 3 кнопок из 10.\n",
    "    Т.о. p = 1 / m"
   ]
  },
  {
   "cell_type": "code",
   "execution_count": 22,
   "metadata": {},
   "outputs": [
    {
     "name": "stdout",
     "output_type": "stream",
     "text": [
      "Вероятность открыть дверь с первой попытки: 0.008333\n"
     ]
    }
   ],
   "source": [
    "m = combinations(10, 3)\n",
    "p = 1 / m\n",
    "print(f'Вероятность открыть дверь с первой попытки: {p:.4}')"
   ]
  },
  {
   "cell_type": "markdown",
   "metadata": {},
   "source": [
    "### Задание 3\n",
    "#### В ящике имеется 15 деталей, из которых 9 окрашены. Рабочий случайным образом извлекает 3 детали. Какова вероятность того, что все извлеченные детали окрашены?"
   ]
  },
  {
   "cell_type": "markdown",
   "metadata": {},
   "source": [
    "    Пусть n - количество всех сочетаний 3 деталей из 15.\n",
    "    m - количество сочетаний 3х окрашенных деталей и 9.\n",
    "    Т.о. p = m / n"
   ]
  },
  {
   "cell_type": "code",
   "execution_count": 24,
   "metadata": {},
   "outputs": [
    {
     "name": "stdout",
     "output_type": "stream",
     "text": [
      "Вероятность, что все извлеченные детали окрашены: 0.1846\n"
     ]
    }
   ],
   "source": [
    "n = combinations(15, 3)\n",
    "m = combinations(9, 3)\n",
    "p = m / n\n",
    "print(f'Вероятность, что все извлеченные детали окрашены: {p:.4}')"
   ]
  },
  {
   "cell_type": "markdown",
   "metadata": {},
   "source": [
    "### Задание 4\n",
    "#### В лотерее 100 билетов. Из них 2 выигрышных. Какова вероятность того, что 2 приобретенных билета окажутся выигрышными?"
   ]
  },
  {
   "cell_type": "markdown",
   "metadata": {},
   "source": [
    "    m - количество сочетаний 2 билетов из 100.\n",
    "    Т.о. p = 1 / m"
   ]
  },
  {
   "cell_type": "code",
   "execution_count": 28,
   "metadata": {},
   "outputs": [
    {
     "name": "stdout",
     "output_type": "stream",
     "text": [
      "Вероятность, что 2 приобретенных билета окажутся выигрышными: 0.000202\n"
     ]
    }
   ],
   "source": [
    "m = combinations(100, 2)\n",
    "p = 1 / m\n",
    "print(f'Вероятность, что 2 приобретенных билета окажутся выигрышными: {p:.4}')"
   ]
  },
  {
   "cell_type": "code",
   "execution_count": null,
   "metadata": {},
   "outputs": [],
   "source": []
  }
 ],
 "metadata": {
  "kernelspec": {
   "display_name": "Python 3",
   "language": "python",
   "name": "python3"
  },
  "language_info": {
   "codemirror_mode": {
    "name": "ipython",
    "version": 3
   },
   "file_extension": ".py",
   "mimetype": "text/x-python",
   "name": "python",
   "nbconvert_exporter": "python",
   "pygments_lexer": "ipython3",
   "version": "3.7.3"
  }
 },
 "nbformat": 4,
 "nbformat_minor": 2
}
