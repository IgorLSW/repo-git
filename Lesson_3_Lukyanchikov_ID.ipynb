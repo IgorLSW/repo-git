{
 "cells": [
  {
   "cell_type": "markdown",
   "metadata": {},
   "source": [
    "# Урок 3.\n",
    "## Описательная статистика. Качественные и количественные характеристики популяции. Графическое представление данных"
   ]
  },
  {
   "cell_type": "code",
   "execution_count": 115,
   "metadata": {},
   "outputs": [],
   "source": [
    "from math import factorial\n",
    "import pandas as pd\n",
    "import numpy as np\n",
    "import matplotlib.pyplot as plt"
   ]
  },
  {
   "cell_type": "code",
   "execution_count": 58,
   "metadata": {},
   "outputs": [],
   "source": [
    "# функция для вычисления количества сочетаний:\n",
    "def combinations(n, k):\n",
    "    return int(factorial(n) / (factorial(k) * factorial(n - k)))"
   ]
  },
  {
   "cell_type": "markdown",
   "metadata": {},
   "source": [
    "## Задание 1\n",
    "### Даны значения зарплат из выборки выпускников: 100, 80, 75, 77, 89, 33, 45, 25, 65, 17, 30, 24, 57, 55, 70, 75, 65, 84, 90, 150. Посчитать (желательно без использования статистических методов наподобие std, var, mean) среднее арифметическое, среднее квадратичное отклонение, смещенную и несмещенную оценки дисперсий для данной выборки."
   ]
  },
  {
   "cell_type": "code",
   "execution_count": 9,
   "metadata": {},
   "outputs": [],
   "source": [
    "lst = [100, 80, 75, 77, 89, 33, 45, 25, 65, 17, 30, 24, 57, 55, 70, 75, 65, 84, 90, 150]\n",
    "df = pd.DataFrame(lst)"
   ]
  },
  {
   "cell_type": "markdown",
   "metadata": {},
   "source": [
    "### а) среднее арифметическое"
   ]
  },
  {
   "cell_type": "code",
   "execution_count": 22,
   "metadata": {},
   "outputs": [
    {
     "name": "stdout",
     "output_type": "stream",
     "text": [
      "Среднее арифметическое: 65.3\n"
     ]
    }
   ],
   "source": [
    "mu = sum(lst)/len(lst)\n",
    "print(f'Среднее арифметическое: {mu}')"
   ]
  },
  {
   "cell_type": "markdown",
   "metadata": {},
   "source": [
    "### б) среднее квадратичное отклонение"
   ]
  },
  {
   "cell_type": "code",
   "execution_count": 47,
   "metadata": {},
   "outputs": [
    {
     "name": "stdout",
     "output_type": "stream",
     "text": [
      "Среднее квадратичное отклонение: 30.8239\n"
     ]
    }
   ],
   "source": [
    "sig = np.sqrt(((df[0] - mu)**2).sum() / df[0].count())\n",
    "print(f'Среднее квадратичное отклонение: {sig:.4f}')"
   ]
  },
  {
   "cell_type": "markdown",
   "metadata": {},
   "source": [
    "### в) смещенная оценка дисперсии"
   ]
  },
  {
   "cell_type": "code",
   "execution_count": 44,
   "metadata": {},
   "outputs": [
    {
     "name": "stdout",
     "output_type": "stream",
     "text": [
      "Смещенная оценка дисперсии: 950.1100\n"
     ]
    }
   ],
   "source": [
    "disp_sm = ((df[0] - df[0].mean())**2).sum() / df[0].count()\n",
    "print(f'Смещенная оценка дисперсии: {disp_sm:.4f}')"
   ]
  },
  {
   "cell_type": "markdown",
   "metadata": {},
   "source": [
    "### г) несмещенная оценка дисперсии"
   ]
  },
  {
   "cell_type": "code",
   "execution_count": 43,
   "metadata": {},
   "outputs": [
    {
     "name": "stdout",
     "output_type": "stream",
     "text": [
      "Несмещенная оценка дисперсии: 1000.1158\n"
     ]
    }
   ],
   "source": [
    "disp = ((df[0] - df[0].mean())**2).sum() / (df[0].count() - 1)\n",
    "print(f'Несмещенная оценка дисперсии: {disp:.4f}')"
   ]
  },
  {
   "cell_type": "code",
   "execution_count": 50,
   "metadata": {},
   "outputs": [
    {
     "name": "stdout",
     "output_type": "stream",
     "text": [
      "Среднее арифметическое: 65.3, mean = 65.3\n",
      "Среднее квадратичное отклонение: 30.8239, std = 30.823854398825596\n"
     ]
    }
   ],
   "source": [
    "# Проверочные расчеты\n",
    "print(f'Среднее арифметическое: {mu}, mean =', df[0].mean())\n",
    "print(f'Среднее квадратичное отклонение: {sig:.4f}, std =', df[0].std(ddof=0))"
   ]
  },
  {
   "cell_type": "code",
   "execution_count": 116,
   "metadata": {},
   "outputs": [
    {
     "data": {
      "image/png": "[encoded data removed]",
      "text/plain": [
       "<Figure size 432x288 with 1 Axes>"
      ]
     },
     "metadata": {
      "needs_background": "light"
     },
     "output_type": "display_data"
    }
   ],
   "source": [
    "plt.hist(df[0])\n",
    "plt.show()"
   ]
  },
  {
   "cell_type": "code",
   "execution_count": 121,
   "metadata": {},
   "outputs": [
    {
     "data": {
      "image/png": "[encoded data removed]",
      "text/plain": [
       "<Figure size 432x288 with 1 Axes>"
      ]
     },
     "metadata": {
      "needs_background": "light"
     },
     "output_type": "display_data"
    }
   ],
   "source": [
    "plt.hist(df[0], bins = 50)\n",
    "plt.show()"
   ]
  },
  {
   "cell_type": "code",
   "execution_count": 122,
   "metadata": {},
   "outputs": [
    {
     "data": {
      "image/png": "[encoded data removed]",
      "text/plain": [
       "<Figure size 432x288 with 1 Axes>"
      ]
     },
     "metadata": {
      "needs_background": "light"
     },
     "output_type": "display_data"
    }
   ],
   "source": [
    "import seaborn as sns\n",
    "sns.boxplot(df[0], orient='v')\n",
    "plt.show()"
   ]
  },
  {
   "cell_type": "markdown",
   "metadata": {},
   "source": [
    "## Задание 2\n",
    "### В первом ящике находится 8 мячей, из которых 5 - белые. Во втором ящике - 12 мячей, из которых 5 белых. Из первого ящика вытаскивают случайным образом два мяча, из второго - 4. Какова вероятность того, что 3 мяча белые?"
   ]
  },
  {
   "cell_type": "markdown",
   "metadata": {},
   "source": [
    "Рассмотрим 3 случая:\n",
    "    1. Из 1-го ящика берем 2 белых из 5, из 2-го 1 белый мяч из 5\n",
    "    2. Из 1-го ящика берем 1 белый, из 2-го 2 белых мяча\n",
    "    3. Из 1-го ящика берем 0 белых, из 2-го 3 белых мяча\n",
    "    \n",
    "Учитываем при этом, что остальные взятые мячи будут черные.\n",
    "#### $$P = \\frac{C_{5}^2}{C_{8}^2} \\cdot \\frac{C_{5}^1 \\cdot C_{7}^3}{C_{12}^4} + \\frac{C_{5}^1 \\cdot C_{3}^1}{C_{8}^2} \\cdot \\frac{C_{5}^2 \\cdot C_{7}^2}{C_{12}^4} + \\frac{C_{3}^2}{C_{8}^2} \\cdot \\frac{C_{5}^3 \\cdot C_{7}^1}{C_{12}^4}  $$"
   ]
  },
  {
   "cell_type": "code",
   "execution_count": 59,
   "metadata": {},
   "outputs": [],
   "source": [
    "# Количество всех сочетаний для 1 и 2 ящика\n",
    "n1 = combinations(8, 2)  # 1 ящик\n",
    "n2 = combinations(12, 4) # 2 ящик"
   ]
  },
  {
   "cell_type": "code",
   "execution_count": 69,
   "metadata": {},
   "outputs": [
    {
     "data": {
      "text/plain": [
       "0.12626262626262627"
      ]
     },
     "execution_count": 69,
     "metadata": {},
     "output_type": "execute_result"
    }
   ],
   "source": [
    "# 1\n",
    "m1w = combinations(5, 2)   \n",
    "m2w = combinations(5, 1)   \n",
    "m2b = combinations(7, 3)  # 3 черных из 7 черных\n",
    "p1 = (m1w / n1) * (m2w * m2b / n2)\n",
    "p1"
   ]
  },
  {
   "cell_type": "code",
   "execution_count": 70,
   "metadata": {},
   "outputs": [
    {
     "data": {
      "text/plain": [
       "0.22727272727272727"
      ]
     },
     "execution_count": 70,
     "metadata": {},
     "output_type": "execute_result"
    }
   ],
   "source": [
    "# 2\n",
    "m1w = combinations(5, 1)   \n",
    "m1b = combinations(3, 1)   \n",
    "m2w = combinations(5, 2)   \n",
    "m2b = combinations(7, 2)  # 2 черных из 7 черных\n",
    "p2 = (m1w * m1b / n1) * (m2w * m2b / n2)\n",
    "p2"
   ]
  },
  {
   "cell_type": "code",
   "execution_count": 72,
   "metadata": {},
   "outputs": [
    {
     "data": {
      "text/plain": [
       "0.01515151515151515"
      ]
     },
     "execution_count": 72,
     "metadata": {},
     "output_type": "execute_result"
    }
   ],
   "source": [
    "# 3\n",
    "m1b = combinations(3, 2)   \n",
    "m2w = combinations(5, 3)   \n",
    "m2b = combinations(7, 1)  # 1 черный из 7 черных\n",
    "p3 = (m1b / n1) * (m2w * m2b / n2)\n",
    "p3"
   ]
  },
  {
   "cell_type": "code",
   "execution_count": 75,
   "metadata": {},
   "outputs": [
    {
     "name": "stdout",
     "output_type": "stream",
     "text": [
      "Вероятность, что 3 мяча белые: 0.3687\n"
     ]
    }
   ],
   "source": [
    "p = p1 + p2 + p3\n",
    "print(f'Вероятность, что 3 мяча белые: {p:.4f}')"
   ]
  },
  {
   "cell_type": "markdown",
   "metadata": {},
   "source": [
    "## Задание 3\n",
    "### На соревновании по биатлону один из трех спортсменов стреляет и попадает в мишень. Вероятность попадания для первого спортсмена равна 0.9, для второго — 0.8, для третьего — 0.6. "
   ]
  },
  {
   "cell_type": "markdown",
   "metadata": {},
   "source": [
    "Если воспользоваться примером 11 из Матстат_Урок_1 получим\n",
    "$$P(B_x\\:|\\:A) = \\frac{P(B_x) \\cdot P(A\\:|\\:B_x)}{P(A)}$$\n",
    "где\n",
    "событием  𝐴  будем считать попадание в мишень, а событиями  𝐵1,𝐵2  и  𝐵3  — что выстрел совершил первый, второй или третий спортсмен. При успешном выстреле:\n",
    "$$P(A\\:|\\:B_1) = 0.9$$\n",
    "$$P(A\\:|\\:B_2) = 0.8$$\n",
    "$$P(A\\:|\\:B_3) = 0.6$$\n",
    "$$P(B_x) = \\frac{1}{n} = \\frac{1}{3} $$\n",
    "$$P(A) = {\\frac{1}{3} \\cdot P(A\\:|\\:B_1) + \\frac{1}{3} \\cdot P(A\\:|\\:B_2) + \\frac{1}{3} \\cdot P(A\\:|\\:B_3)} $$"
   ]
  },
  {
   "cell_type": "code",
   "execution_count": 84,
   "metadata": {},
   "outputs": [
    {
     "data": {
      "text/plain": [
       "0.7666666666666666"
      ]
     },
     "execution_count": 84,
     "metadata": {},
     "output_type": "execute_result"
    }
   ],
   "source": [
    "p_ab1 = 0.9\n",
    "p_ab2 = 0.8\n",
    "p_ab3 = 0.6\n",
    "n = 3\n",
    "p_a = p_ab1 / n + p_ab2 / n + p_ab3 / n\n",
    "p_a"
   ]
  },
  {
   "cell_type": "markdown",
   "metadata": {},
   "source": [
    "### Найти вероятность того, что выстрел произведен:"
   ]
  },
  {
   "cell_type": "markdown",
   "metadata": {},
   "source": [
    "### a) первым спортсменом "
   ]
  },
  {
   "cell_type": "code",
   "execution_count": 85,
   "metadata": {},
   "outputs": [
    {
     "name": "stdout",
     "output_type": "stream",
     "text": [
      "Вероятность того, что выстрел произведен первым спортсменом: 0.3913\n"
     ]
    }
   ],
   "source": [
    "p_b1 = p_ab1 / n / p_a\n",
    "print(f'Вероятность того, что выстрел произведен первым спортсменом: {p_b1:.4}')"
   ]
  },
  {
   "cell_type": "markdown",
   "metadata": {},
   "source": [
    "### б) вторым спортсменом "
   ]
  },
  {
   "cell_type": "code",
   "execution_count": 86,
   "metadata": {},
   "outputs": [
    {
     "name": "stdout",
     "output_type": "stream",
     "text": [
      "Вероятность того, что выстрел произведен вторым спортсменом: 0.3478\n"
     ]
    }
   ],
   "source": [
    "p_b2 = p_ab2 / n / p_a\n",
    "print(f'Вероятность того, что выстрел произведен вторым спортсменом: {p_b2:.4}')"
   ]
  },
  {
   "cell_type": "markdown",
   "metadata": {},
   "source": [
    "### в) третьим спортсменом"
   ]
  },
  {
   "cell_type": "code",
   "execution_count": 87,
   "metadata": {},
   "outputs": [
    {
     "name": "stdout",
     "output_type": "stream",
     "text": [
      "Вероятность того, что выстрел произведен  третьим спортсменом: 0.2609\n"
     ]
    }
   ],
   "source": [
    "p_b3 = p_ab3 / n / p_a\n",
    "print(f'Вероятность того, что выстрел произведен  третьим спортсменом: {p_b3:.4}')"
   ]
  },
  {
   "cell_type": "markdown",
   "metadata": {},
   "source": [
    "## Задание 4\n",
    "### В университет на факультеты A и B поступило равное количество студентов, а на факультет C студентов поступило столько же, сколько на A и B вместе. Вероятность того, что студент факультета A сдаст первую сессию, равна 0.8. Для студента факультета B эта вероятность равна 0.7, а для студента факультета C - 0.9. Студент сдал первую сессию. Какова вероятность, что он учится: "
   ]
  },
  {
   "cell_type": "markdown",
   "metadata": {},
   "source": [
    "Опять воспользуемся Формулой Байеса и получим\n",
    "$$P(B_x\\:|\\:A) = \\frac{P(B_x) \\cdot P(A\\:|\\:B_x)}{P(A)}$$\n",
    "где\n",
    "событием  𝐴  будем считать сдачу сессии, а событиями  𝐵1, 𝐵2 и 𝐵3 — учебу на факультете А, B и C соответственно, n - количество студентов в группе А:\n",
    "$$P(A\\:|\\:B_1) = 0.8$$\n",
    "$$P(A\\:|\\:B_2) = 0.7$$\n",
    "$$P(A\\:|\\:B_3) = 0.9$$\n",
    "$$P(B_1) = \\frac{1}{n}, P(B_2) = \\frac{1}{n}, P(B_3) = \\frac{2}{n} $$\n",
    "$$P(A) = {\\frac{1}{n} \\cdot P(A\\:|\\:B_1) + \\frac{1}{n} \\cdot P(A\\:|\\:B_2) + \\frac{2}{n} \\cdot P(A\\:|\\:B_3)} $$\n",
    "n при расчетах сокращается и получаем:\n",
    "$$P(B_1\\:|\\:A) = \\frac{P(A\\:|\\:B_1)}{P(A\\:|\\:B_1) + P(A\\:|\\:B_2) + 2 P(A\\:|\\:B_3)}$$"
   ]
  },
  {
   "cell_type": "markdown",
   "metadata": {},
   "source": [
    "### a) на факультете A?"
   ]
  },
  {
   "cell_type": "code",
   "execution_count": 90,
   "metadata": {},
   "outputs": [
    {
     "name": "stdout",
     "output_type": "stream",
     "text": [
      "Вероятность, что c=студент учится на факультете А: 0.2424\n"
     ]
    }
   ],
   "source": [
    "p_ab1 = 0.8\n",
    "p_ab2 = 0.7\n",
    "p_ab3 = 0.9\n",
    "\n",
    "p_b1 = p_ab1 / (p_ab1 + p_ab2 + 2 * p_ab3)\n",
    "print(f'Вероятность, что c=студент учится на факультете А: {p_b1:.4}')"
   ]
  },
  {
   "cell_type": "markdown",
   "metadata": {},
   "source": [
    "### б) на факультете B?\n",
    "$$P(B_2\\:|\\:A) = \\frac{P(A\\:|\\:B_2)}{P(A\\:|\\:B_1) + P(A\\:|\\:B_2) + 2 P(A\\:|\\:B_3)}$$"
   ]
  },
  {
   "cell_type": "code",
   "execution_count": 92,
   "metadata": {},
   "outputs": [
    {
     "name": "stdout",
     "output_type": "stream",
     "text": [
      "Вероятность, что c=студент учится на факультете В: 0.2121\n"
     ]
    }
   ],
   "source": [
    "p_b2 = p_ab2 / (p_ab1 + p_ab2 + 2 * p_ab3)\n",
    "print(f'Вероятность, что c=студент учится на факультете В: {p_b2:.4}')"
   ]
  },
  {
   "cell_type": "markdown",
   "metadata": {},
   "source": [
    "### в) на факультете C?\n",
    "$$P(B_3\\:|\\:A) = \\frac{2 * P(A\\:|\\:B_3)}{P(A\\:|\\:B_1) + P(A\\:|\\:B_2) + 2 * P(A\\:|\\:B_3)}$$"
   ]
  },
  {
   "cell_type": "code",
   "execution_count": 94,
   "metadata": {},
   "outputs": [
    {
     "name": "stdout",
     "output_type": "stream",
     "text": [
      "Вероятность, что c=студент учится на факультете С: 0.5455\n"
     ]
    }
   ],
   "source": [
    "p_b3 = 2 * p_ab3 / (p_ab1 + p_ab2 + 2 * p_ab3)\n",
    "print(f'Вероятность, что c=студент учится на факультете С: {p_b3:.4}')"
   ]
  },
  {
   "cell_type": "markdown",
   "metadata": {},
   "source": [
    "## Задание 5\n",
    "### Устройство состоит из трех деталей. Для первой детали вероятность выйти из строя в первый месяц равна 0.1, для второй - 0.2, для третьей - 0.25. Какова вероятность того, что в первый месяц выйдут из строя: "
   ]
  },
  {
   "cell_type": "code",
   "execution_count": 97,
   "metadata": {},
   "outputs": [],
   "source": [
    "p1 = 0.1\n",
    "p2 = 0.2\n",
    "p3 = 0.25"
   ]
  },
  {
   "cell_type": "markdown",
   "metadata": {},
   "source": [
    "### а) все детали "
   ]
  },
  {
   "cell_type": "code",
   "execution_count": 107,
   "metadata": {},
   "outputs": [
    {
     "name": "stdout",
     "output_type": "stream",
     "text": [
      "Вероятность того, что в первый месяц выйдут из строя все детали: 0.0050\n"
     ]
    }
   ],
   "source": [
    "p_3 = p1 * p2 * p3\n",
    "print(f'Вероятность того, что в первый месяц выйдут из строя все детали: {p_3:.4f}')"
   ]
  },
  {
   "cell_type": "markdown",
   "metadata": {},
   "source": [
    "### б) только две детали"
   ]
  },
  {
   "cell_type": "code",
   "execution_count": 108,
   "metadata": {},
   "outputs": [
    {
     "name": "stdout",
     "output_type": "stream",
     "text": [
      "Вероятность того, что в первый месяц выйдут из строя только две детали: 0.0800\n"
     ]
    }
   ],
   "source": [
    "p_2 =  p1 * p2 * (1 - p3) + p1 * (1 - p2) * p3 + (1 - p1) * p2 * p3\n",
    "print(f'Вероятность того, что в первый месяц выйдут из строя только две детали: {p_2:.4f}')"
   ]
  },
  {
   "cell_type": "markdown",
   "metadata": {},
   "source": [
    "### в) хотя бы одна деталь "
   ]
  },
  {
   "cell_type": "code",
   "execution_count": 112,
   "metadata": {},
   "outputs": [
    {
     "name": "stdout",
     "output_type": "stream",
     "text": [
      "Вероятность того, что в первый месяц выйдут из строя хотя бы одна деталь: 0.4600 или 0.46\n"
     ]
    }
   ],
   "source": [
    "p_1 = p1 * (1 - p2) * (1 - p3) + (1 - p1) * p2 * (1 - p3) + (1 - p1) * (1 - p2) * p3 + p_2 + p_3\n",
    "p = 1 - (1 - p1) * (1 - p2) * (1 - p3)\n",
    "print(f'Вероятность того, что в первый месяц выйдут из строя хотя бы одна деталь: {p:.4f} или {p_1}')"
   ]
  },
  {
   "cell_type": "markdown",
   "metadata": {},
   "source": [
    "### г) от одной до двух деталей?"
   ]
  },
  {
   "cell_type": "code",
   "execution_count": 113,
   "metadata": {},
   "outputs": [
    {
     "name": "stdout",
     "output_type": "stream",
     "text": [
      "Вероятность того, что в первый месяц выйдут из строя  от одной до двух деталей: 0.4550\n"
     ]
    }
   ],
   "source": [
    "p = p_1 - p_3\n",
    "print(f'Вероятность того, что в первый месяц выйдут из строя  от одной до двух деталей: {p:.4f}')"
   ]
  },
  {
   "cell_type": "code",
   "execution_count": null,
   "metadata": {},
   "outputs": [],
   "source": []
  }
 ],
 "metadata": {
  "kernelspec": {
   "display_name": "Python 3",
   "language": "python",
   "name": "python3"
  },
  "language_info": {
   "codemirror_mode": {
    "name": "ipython",
    "version": 3
   },
   "file_extension": ".py",
   "mimetype": "text/x-python",
   "name": "python",
   "nbconvert_exporter": "python",
   "pygments_lexer": "ipython3",
   "version": "3.7.3"
  }
 },
 "nbformat": 4,
 "nbformat_minor": 2
}
