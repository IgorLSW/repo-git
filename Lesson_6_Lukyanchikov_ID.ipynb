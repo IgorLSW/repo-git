{
 "cells": [
  {
   "cell_type": "markdown",
   "metadata": {},
   "source": [
    "# Урок 6. Практическое задание\n",
    "## Взаимосвязь величин. Параметрические и непараметрические показатели корреляции. Корреляционный анализ"
   ]
  },
  {
   "cell_type": "markdown",
   "metadata": {},
   "source": [
    "## Задание 1\n",
    "### Даны значения величины заработной платы заемщиков банка (zp) и значения их поведенческого кредитного скоринга (ks):\n",
    "    zp = [35, 45, 190, 200, 40, 70, 54, 150, 120, 110],\n",
    "    ks = [401, 574, 874, 919, 459, 739, 653, 902, 746, 832].\n",
    "### Найдите ковариацию этих двух величин с помощью элементарных действий, а затем с помощью функции cov из numpy. Полученные значения должны быть равны.\n",
    "### Найдите коэффициент корреляции Пирсона с помощью ковариации и среднеквадратичных отклонений двух признаков, а затем с использованием функций из библиотек numpy и pandas."
   ]
  },
  {
   "cell_type": "markdown",
   "metadata": {},
   "source": [
    "#### Ковариация\n",
    "Ковариация равна математическому ожиданию произведения отклонений случайных величин:\n",
    "$$cov_{XY} = M[(X - M(X))(Y - M(Y))] = M(XY) - M(X)M(Y)=\\overline{X \\cdot Y} - \\overline{X} \\cdot \\overline{Y}$$\n",
    "где $M$ — математическое ожидание, $\\overline{X} \\: и \\:\\overline{Y}$ — среднее значение выборок."
   ]
  },
  {
   "cell_type": "code",
   "execution_count": 19,
   "metadata": {},
   "outputs": [],
   "source": [
    "import pandas as pd\n",
    "import numpy as np\n",
    "zp = np.array([35, 45, 190, 200, 40, 70, 54, 150, 120, 110])\n",
    "ks = np.array([401, 574, 874, 919, 459, 739, 653, 902, 746, 832])"
   ]
  },
  {
   "cell_type": "code",
   "execution_count": 20,
   "metadata": {},
   "outputs": [
    {
     "name": "stdout",
     "output_type": "stream",
     "text": [
      "Ковариация равна: 9157.8400\n"
     ]
    }
   ],
   "source": [
    "m_zp = zp.mean()\n",
    "m_ks = ks.mean()\n",
    "m_zp_ks = (zp * ks).mean()\n",
    "\n",
    "cov_zp_ks = m_zp_ks - m_zp * m_ks\n",
    "print(f'Ковариация равна: {cov_zp_ks:.4f}')"
   ]
  },
  {
   "cell_type": "code",
   "execution_count": 21,
   "metadata": {},
   "outputs": [
    {
     "data": {
      "text/plain": [
       "array([[ 3882.93333333, 10175.37777778],\n",
       "       [10175.37777778, 33854.32222222]])"
      ]
     },
     "execution_count": 21,
     "metadata": {},
     "output_type": "execute_result"
    }
   ],
   "source": [
    "np.cov(zp, ks, ddof=1)"
   ]
  },
  {
   "cell_type": "code",
   "execution_count": 22,
   "metadata": {},
   "outputs": [
    {
     "data": {
      "text/plain": [
       "array([[ 3494.64,  9157.84],\n",
       "       [ 9157.84, 30468.89]])"
      ]
     },
     "execution_count": 22,
     "metadata": {},
     "output_type": "execute_result"
    }
   ],
   "source": [
    "np.cov(zp, ks, ddof=0)"
   ]
  },
  {
   "cell_type": "markdown",
   "metadata": {},
   "source": [
    "#### Коэффициент корреляции Пирсона\n",
    "Зная ковариацию и среднее квадратичное отклонение каждого из двух признаков, можно вычислить коэффициент корреляции Пирсона:\n",
    "$$r_{XY} = \\frac{cov_{XY}}{\\sigma_{X}\\sigma_{Y}}$$"
   ]
  },
  {
   "cell_type": "code",
   "execution_count": 28,
   "metadata": {},
   "outputs": [
    {
     "name": "stdout",
     "output_type": "stream",
     "text": [
      "Коэффициент корреляции Пирсона равен: 0.8875\n"
     ]
    }
   ],
   "source": [
    "s_zp = zp.std(ddof=0)\n",
    "s_ks = ks.std(ddof=0)\n",
    "r_zp_ks = cov_zp_ks / (s_zp * s_ks)\n",
    "print(f'Коэффициент корреляции Пирсона равен: {r_zp_ks:.4f}')"
   ]
  },
  {
   "cell_type": "code",
   "execution_count": 29,
   "metadata": {},
   "outputs": [
    {
     "data": {
      "text/plain": [
       "array([[1.        , 0.88749009],\n",
       "       [0.88749009, 1.        ]])"
      ]
     },
     "execution_count": 29,
     "metadata": {},
     "output_type": "execute_result"
    }
   ],
   "source": [
    "np.corrcoef(zp, ks)"
   ]
  },
  {
   "cell_type": "code",
   "execution_count": null,
   "metadata": {},
   "outputs": [],
   "source": []
  },
  {
   "cell_type": "markdown",
   "metadata": {},
   "source": [
    "## Задание 2\n",
    "### Измерены значения IQ выборки студентов, обучающихся в местных технических вузах: 131, 125, 115, 122, 131, 115, 107, 99, 125, 111. Известно, что в генеральной совокупности IQ распределен нормально.\n",
    "### Найдите доверительный интервал для математического ожидания с надежностью 0.95."
   ]
  },
  {
   "cell_type": "markdown",
   "metadata": {},
   "source": [
    "Воспользуемся формулой\n",
    "\n",
    "$$\n",
    "    \\overline{X} \\pm t_{\\alpha / 2} \\cdot \\dfrac{\\sigma}{\\sqrt{n}}\n",
    "$$\n",
    "\n",
    "    a = 1 - 0.95 = 0.05\n",
    "    Определяем критерий Стьюдента t по таблице для \n",
    "    v = n - 1 = 9 \n",
    "    a / 2 = 0.05 / 2 = 0.025 \n",
    "    t = 2.262"
   ]
  },
  {
   "cell_type": "code",
   "execution_count": 3,
   "metadata": {},
   "outputs": [
    {
     "name": "stdout",
     "output_type": "stream",
     "text": [
      "Доверительный интервал: 110.6, 125.6\n"
     ]
    }
   ],
   "source": [
    "import numpy as np\n",
    "\n",
    "x = np.array([131, 125, 115, 122, 131, 115, 107, 99, 125, 111])\n",
    "m = x.mean()\n",
    "s = x.std(ddof=1)\n",
    "n = 10\n",
    "t = 2.262 # из таблицы\n",
    "\n",
    "print(f'Доверительный интервал: {m - (t * s / n ** 0.5):.4}, {m + (t * s / n ** 0.5):.4}')"
   ]
  },
  {
   "cell_type": "code",
   "execution_count": null,
   "metadata": {},
   "outputs": [],
   "source": []
  },
  {
   "cell_type": "markdown",
   "metadata": {},
   "source": [
    "## Задание 3\n",
    "### Известно, что рост футболистов в сборной распределен нормально с дисперсией генеральной совокупности, равной 25 кв.см. Объем выборки равен 27, среднее выборочное составляет 174.2. \n",
    "### Найдите доверительный интервал для математического ожидания с надежностью 0.95."
   ]
  },
  {
   "cell_type": "markdown",
   "metadata": {},
   "source": [
    "Воспользуемся формулой\n",
    "\n",
    "$$\n",
    "    \\overline{X} \\pm z_{\\alpha / 2} \\cdot \\dfrac{\\sigma}{\\sqrt{n}}\n",
    "$$\n",
    "\n",
    "    a = 1 - 0.95 = 0.05\n",
    "    Определяем z по даблице для значения 0,975 (1 - a / 2)\n",
    "    z = 1.96"
   ]
  },
  {
   "cell_type": "code",
   "execution_count": 6,
   "metadata": {},
   "outputs": [
    {
     "name": "stdout",
     "output_type": "stream",
     "text": [
      "Доверительный интервал: 172.3, 176.1\n"
     ]
    }
   ],
   "source": [
    "m = 174.2\n",
    "n = 27\n",
    "p = 0.95\n",
    "d = 25\n",
    "a = 0.05 # 1 - p\n",
    "z = 1.96 # из таблицы\n",
    "s = d ** 0.5\n",
    "print(f'Доверительный интервал: {m - (z * s / n ** 0.5):.4}, {m + (z * s / n ** 0.5):.4}')"
   ]
  },
  {
   "cell_type": "code",
   "execution_count": null,
   "metadata": {},
   "outputs": [],
   "source": []
  }
 ],
 "metadata": {
  "kernelspec": {
   "display_name": "Python 3",
   "language": "python",
   "name": "python3"
  },
  "language_info": {
   "codemirror_mode": {
    "name": "ipython",
    "version": 3
   },
   "file_extension": ".py",
   "mimetype": "text/x-python",
   "name": "python",
   "nbconvert_exporter": "python",
   "pygments_lexer": "ipython3",
   "version": "3.7.3"
  }
 },
 "nbformat": 4,
 "nbformat_minor": 2
}
