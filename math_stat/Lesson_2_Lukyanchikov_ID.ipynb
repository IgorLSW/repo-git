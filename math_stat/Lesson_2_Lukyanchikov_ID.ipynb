{
 "cells": [
  {
   "cell_type": "markdown",
   "metadata": {},
   "source": [
    "# Урок 2.\n",
    "## Дискретные случайные величины. Закон распределения вероятностей. Биномиальный закон распределения. Распределение Пуассона"
   ]
  },
  {
   "cell_type": "code",
   "execution_count": 14,
   "metadata": {},
   "outputs": [],
   "source": [
    "#from math import factorial\n",
    "import math\n",
    "\n",
    "# функция для вычисления количества сочетаний:\n",
    "def combinations(n, k):\n",
    "    return int(factorial(n) / (factorial(k) * factorial(n - k)))"
   ]
  },
  {
   "cell_type": "markdown",
   "metadata": {},
   "source": [
    "### Задание 1\n",
    "#### Вероятность того, что стрелок попадет в мишень, выстрелив один раз, равна 0.8. Стрелок выстрелил 100 раз. Найдите вероятность того, что стрелок попадет в цель ровно 85 раз."
   ]
  },
  {
   "cell_type": "markdown",
   "metadata": {},
   "source": [
    "Применим формулу Бернулли $$P_n =C_n^kp^kq^{n-k}$$"
   ]
  },
  {
   "cell_type": "code",
   "execution_count": 15,
   "metadata": {},
   "outputs": [
    {
     "name": "stdout",
     "output_type": "stream",
     "text": [
      "Вероятность того, что стрелок попадет в цель ровно 85 раз: 0.04806\n"
     ]
    }
   ],
   "source": [
    "n = 100\n",
    "k = 85\n",
    "p = 0.8\n",
    "q = 1 - p\n",
    "p85 = combinations(n, k) * p ** k * q ** (n - k)\n",
    "print(f'Вероятность того, что стрелок попадет в цель ровно 85 раз: {p85:.4}')"
   ]
  },
  {
   "cell_type": "markdown",
   "metadata": {},
   "source": [
    "### Задание 2\n",
    "#### Вероятность того, что лампочка перегорит в течение первого дня эксплуатации, равна 0.0004. В жилом комплексе после ремонта в один день включили 5000 новых лампочек. "
   ]
  },
  {
   "cell_type": "markdown",
   "metadata": {},
   "source": [
    "#### a) Какова вероятность, что ни одна из них не перегорит в первый день?"
   ]
  },
  {
   "cell_type": "markdown",
   "metadata": {},
   "source": [
    "$$P_m \\approx \\frac{\\lambda^m}{m!}e^{-\\lambda}$$ **где** $λ = np$."
   ]
  },
  {
   "cell_type": "code",
   "execution_count": 16,
   "metadata": {},
   "outputs": [
    {
     "name": "stdout",
     "output_type": "stream",
     "text": [
      "Вероятность того, что ни одна из них не перегорит в первый день: 0.1353\n"
     ]
    }
   ],
   "source": [
    "p = 0.0004 # вероятность перегорания одной лампочка \n",
    "n = 5000   # количество лампочек\n",
    "m = 0      # количество сгоревших лампочек\n",
    "lym = n * p\n",
    "p0 = (lym ** m * math.e ** (-lym)) / factorial(m)\n",
    "print(f'Вероятность того, что ни одна из них не перегорит в первый день: {p0:.4}')"
   ]
  },
  {
   "cell_type": "markdown",
   "metadata": {},
   "source": [
    "#### б) Какова вероятность, что перегорят ровно две?"
   ]
  },
  {
   "cell_type": "code",
   "execution_count": 17,
   "metadata": {},
   "outputs": [
    {
     "name": "stdout",
     "output_type": "stream",
     "text": [
      "Вероятность того, что перегорят ровно две: 0.2707\n"
     ]
    }
   ],
   "source": [
    "p = 0.0004 # вероятность перегорания одной лампочка \n",
    "n = 5000   # количество лампочек\n",
    "m = 2      # количество сгоревших лампочек = 2\n",
    "lym = n * p\n",
    "p0 = (lym ** m * math.e ** (-lym)) / factorial(m)\n",
    "print(f'Вероятность того, что перегорят ровно две: {p0:.4}')"
   ]
  },
  {
   "cell_type": "markdown",
   "metadata": {},
   "source": [
    "### Задание 3\n",
    "#### Монету подбросили 144 раза. Какова вероятность, что орел выпадет ровно 70 раз?"
   ]
  },
  {
   "cell_type": "markdown",
   "metadata": {},
   "source": [
    "Применим формулу Бернулли $$P_n =C_n^kp^kq^{n-k}$$"
   ]
  },
  {
   "cell_type": "code",
   "execution_count": 18,
   "metadata": {},
   "outputs": [
    {
     "name": "stdout",
     "output_type": "stream",
     "text": [
      "Вероятность того, что орел выпадет ровно 70 раз: 0.06281\n"
     ]
    }
   ],
   "source": [
    "p1 = 0.5   # вероятность выпадания орла \n",
    "n = 144    # количество подбрасываний\n",
    "k = 70     # количество выпаданий орла \n",
    "q = 1 - p1\n",
    "p = combinations(n, k) * p1 ** k * q ** (n - k)\n",
    "print(f'Вероятность того, что орел выпадет ровно 70 раз: {p:.4}')"
   ]
  },
  {
   "cell_type": "markdown",
   "metadata": {},
   "source": [
    "### Задание 4\n",
    "#### В первом ящике находится 10 мячей, из которых 7 - белые. Во втором ящике - 11 мячей, из которых 9 белых. Из каждого ящика вытаскивают случайным образом по два мяча. "
   ]
  },
  {
   "cell_type": "markdown",
   "metadata": {},
   "source": [
    "#### a) Какова вероятность того, что все мячи белые? "
   ]
  },
  {
   "cell_type": "markdown",
   "metadata": {},
   "source": [
    "    Пусть n1 - количество всех сочетаний 2 мячей из 10 в 1 ящике.\n",
    "    m1 - количество сочетаний 2х белых мячей из 7 в 1 ящике.\n",
    "    Т.о. p1 = m1 / n1\n",
    "    Аналогично делаем со вторым ящиком "
   ]
  },
  {
   "cell_type": "code",
   "execution_count": 19,
   "metadata": {},
   "outputs": [
    {
     "name": "stdout",
     "output_type": "stream",
     "text": [
      "Вероятность, что все мячи белые: 0.3055\n"
     ]
    }
   ],
   "source": [
    "n1 = combinations(10, 2)\n",
    "n2 = combinations(11, 2)\n",
    "m1 = combinations(7, 2)\n",
    "m2 = combinations(9, 2)\n",
    "p = (m1 / n1) * (m2 / n2)\n",
    "print(f'Вероятность, что все мячи белые: {p:.4}')"
   ]
  },
  {
   "cell_type": "markdown",
   "metadata": {},
   "source": [
    "#### б) Какова вероятность того, что ровно два мяча белые? "
   ]
  },
  {
   "cell_type": "code",
   "execution_count": 20,
   "metadata": {},
   "outputs": [
    {
     "name": "stdout",
     "output_type": "stream",
     "text": [
      "Вероятность, ровно два мяча белые: 0.2048\n"
     ]
    }
   ],
   "source": [
    "# количество всех сочетаний\n",
    "n1 = combinations(10, 2) # 1 ящик\n",
    "n2 = combinations(11, 2) # 2 ящик\n",
    "\n",
    "# 2 белых мяча из 1-го ящика, 2 черных мяча из 2-го ящика \n",
    "m1 = combinations(7, 2)  # 2 белых из 7\n",
    "m2 = combinations(2, 2)  # 2 черных из 2\n",
    "p1 = (m1 / n1) * (m2 / n2)\n",
    "\n",
    "# 2 черных мяча из 1-го ящика, 2 белых мяча из 2-го ящика, \n",
    "m1 = combinations(3, 2)  # 2 черных из 3\n",
    "m2 = combinations(9, 2)  # 2 белых из 9\n",
    "p2 = (m1 / n1) * (m2 / n2)\n",
    "\n",
    "# 1 белый мяч из 1-го ящика и 1 белый мяч из 2-го ящика\n",
    "m1 = combinations(7, 1) * combinations(3, 1)  # 1 белый из 7, 1 черный из 3 \n",
    "m2 = combinations(9, 1) * combinations(2, 1)  # 1 белых из 9, 1 черный из 2 \n",
    "p3 = (m1 / n1) * (m2 / n2)\n",
    "\n",
    "p = p1 + p2 + p3\n",
    "\n",
    "print(f'Вероятность, ровно два мяча белые: {p:.4}')"
   ]
  },
  {
   "cell_type": "markdown",
   "metadata": {},
   "source": [
    "#### в) Какова вероятность того, что хотя бы один мяч белый?"
   ]
  },
  {
   "cell_type": "code",
   "execution_count": 21,
   "metadata": {},
   "outputs": [
    {
     "name": "stdout",
     "output_type": "stream",
     "text": [
      "Вероятность,  что хотя бы один мяч белый: 0.9988\n"
     ]
    }
   ],
   "source": [
    "# Найдем вероятность, что все мячи черные, аналогично п. а)\n",
    "m1 = combinations(3, 2)\n",
    "m2 = combinations(2, 2)\n",
    "p0 = (m1 / n1) * (m2 / n2)\n",
    "# тогда\n",
    "p = 1 - p0\n",
    "print(f'Вероятность,  что хотя бы один мяч белый: {p:.4}')"
   ]
  },
  {
   "cell_type": "code",
   "execution_count": null,
   "metadata": {},
   "outputs": [],
   "source": []
  }
 ],
 "metadata": {
  "kernelspec": {
   "display_name": "Python 3",
   "language": "python",
   "name": "python3"
  },
  "language_info": {
   "codemirror_mode": {
    "name": "ipython",
    "version": 3
   },
   "file_extension": ".py",
   "mimetype": "text/x-python",
   "name": "python",
   "nbconvert_exporter": "python",
   "pygments_lexer": "ipython3",
   "version": "3.7.3"
  }
 },
 "nbformat": 4,
 "nbformat_minor": 2
}
